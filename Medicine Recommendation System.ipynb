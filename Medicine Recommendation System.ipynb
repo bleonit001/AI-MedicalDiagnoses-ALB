{
 "cells": [
  {
   "cell_type": "markdown",
   "id": "c755214a",
   "metadata": {},
   "source": [
    "# Title: Personalized Medical Recommendation System with Machine Learning\n",
    "\n",
    "# Description:\n",
    "\n",
    "Welcome to our cutting-edge Personalized Medical Recommendation System, a powerful platform designed to assist users in understanding and managing their health. Leveraging the capabilities of machine learning, our system analyzes user-input symptoms to predict potential diseases accurately."
   ]
  },
  {
   "cell_type": "markdown",
   "id": "db119e1e",
   "metadata": {},
   "source": [
    "# load dataset & tools"
   ]
  },
  {
   "cell_type": "code",
   "execution_count": 2,
   "id": "4e4766bf",
   "metadata": {},
   "outputs": [],
   "source": [
    "import  pandas as pd"
   ]
  },
  {
   "cell_type": "code",
   "execution_count": 3,
   "id": "56ce4778",
   "metadata": {},
   "outputs": [],
   "source": [
    "dataset = pd.read_csv('dataset/Training.csv')\n"
   ]
  },
  {
   "cell_type": "code",
   "execution_count": 4,
   "id": "5f18d6d2",
   "metadata": {},
   "outputs": [],
   "source": [
    "dataset;"
   ]
  },
  {
   "cell_type": "code",
   "execution_count": 5,
   "id": "f49b2b12",
   "metadata": {},
   "outputs": [],
   "source": [
    "# vals = dataset.values.flatten()"
   ]
  },
  {
   "cell_type": "code",
   "execution_count": 31,
   "id": "a49049bd",
   "metadata": {},
   "outputs": [
    {
     "data": {
      "text/plain": [
       "(4920, 133)"
      ]
     },
     "execution_count": 31,
     "metadata": {},
     "output_type": "execute_result"
    }
   ],
   "source": [
    "dataset.shape"
   ]
  },
  {
   "cell_type": "markdown",
   "id": "2db916ab",
   "metadata": {},
   "source": [
    "# train test split"
   ]
  },
  {
   "cell_type": "code",
   "execution_count": 6,
   "id": "b1e9c647",
   "metadata": {},
   "outputs": [],
   "source": [
    "from sklearn.model_selection import train_test_split\n",
    "from sklearn.preprocessing import LabelEncoder"
   ]
  },
  {
   "cell_type": "code",
   "execution_count": 7,
   "id": "4cb2e972",
   "metadata": {},
   "outputs": [
    {
     "name": "stdout",
     "output_type": "stream",
     "text": [
      "kruarje                          0\n",
      " Skuqja_e_lëkurës                0\n",
      " shpërthimet_e_lëkurës_nyjore    0\n",
      " teshtitje_e_vazhdueshme         0\n",
      " dridhje                         0\n",
      "                                ..\n",
      " flluskë                         0\n",
      " plagë_kuqe_rreth_hundës         0\n",
      " kore_e_verdhë                   0\n",
      "                                 0\n",
      "prognoza                         0\n",
      "Length: 133, dtype: int64\n",
      "[('(vertigo) Vertigo Pozicionale Paroymsal', np.int64(0)), ('Aknet', np.int64(1)), ('Alergji', np.int64(2)), ('Artriti', np.int64(3)), ('Astma bronkiale', np.int64(4)), ('Dengue', np.int64(5)), ('Diabeti ', np.int64(6)), ('Ftohja e zakonshme', np.int64(7)), ('GERD', np.int64(8)), ('Gastroenteriti', np.int64(9)), ('Hemorroidet dimorfike (grumbullat)', np.int64(10)), ('Hepatiti A', np.int64(11)), ('Hepatiti B', np.int64(12)), ('Hepatiti C', np.int64(13)), ('Hepatiti D', np.int64(14)), ('Hepatiti E', np.int64(15)), ('Hepatiti alkoolik', np.int64(16)), ('Hipertensioni', np.int64(17)), ('Hipertiroidizmi', np.int64(18)), ('Hipoglicemia', np.int64(19)), ('Hipotireoza', np.int64(20)), ('Impetigo', np.int64(21)), ('Infeksion mykotik', np.int64(22)), ('Infeksioni i traktit urinar', np.int64(23)), ('Kolestaza kronike', np.int64(24)), ('Lija e dhenve', np.int64(25)), ('Malaria', np.int64(26)), ('Migrena', np.int64(27)), ('Osteoartrozë', np.int64(28)), ('Paraliza (hemorragjia e trurit)', np.int64(29)), ('Pneumonia', np.int64(30)), ('Psoriasis', np.int64(31)), ('Reagimi i drogës', np.int64(32)), ('SIDA', np.int64(33)), ('Spondiloza e qafës së mitrës', np.int64(34)), ('Sulmi në zemër', np.int64(35)), ('Sëmundja e ulçerës peptike', np.int64(36)), ('Tifoja', np.int64(37)), ('Tuberkulozi', np.int64(38)), ('Venat me variçe', np.int64(39)), ('Verdhëza', np.int64(40))]\n"
     ]
    }
   ],
   "source": [
    "# Drop target column and separate the features (X) and target (y)\n",
    "X = dataset.drop('prognoza', axis=1)\n",
    "y = dataset['prognoza']\n",
    "\n",
    "# Check for missing values\n",
    "print(dataset.isnull().sum())  # Check if there are missing values in any column\n",
    "\n",
    "# Encoding the target variable 'prognosis'\n",
    "le = LabelEncoder()\n",
    "le.fit(y)\n",
    "Y = le.transform(y)\n",
    "\n",
    "# Check the mapping of labels to encoded values\n",
    "print(list(zip(le.classes_, le.transform(le.classes_))))\n",
    "\n",
    "# Split the dataset into training and testing sets\n",
    "X_train, X_test, y_train, y_test = train_test_split(X, Y, test_size=0.3, random_state=20)\n"
   ]
  },
  {
   "cell_type": "markdown",
   "id": "1c1a9ed2",
   "metadata": {},
   "source": [
    "# Training top models"
   ]
  },
  {
   "cell_type": "code",
   "execution_count": 8,
   "id": "5b9c4a9e",
   "metadata": {},
   "outputs": [
    {
     "name": "stdout",
     "output_type": "stream",
     "text": [
      "SVC Accuracy: 0.5333\n",
      "SVC Confusion Matrix:\n",
      "[[89, 56],\n",
      " [84, 71]]\n",
      "\n",
      "========================================\n",
      "\n",
      "RandomForest Accuracy: 0.6733\n",
      "RandomForest Confusion Matrix:\n",
      "[[110,  35],\n",
      " [ 63,  92]]\n",
      "\n",
      "========================================\n",
      "\n",
      "GradientBoosting Accuracy: 0.6933\n",
      "GradientBoosting Confusion Matrix:\n",
      "[[109,  36],\n",
      " [ 56,  99]]\n",
      "\n",
      "========================================\n",
      "\n",
      "KNeighbors Accuracy: 0.5267\n",
      "KNeighbors Confusion Matrix:\n",
      "[[81, 64],\n",
      " [78, 77]]\n",
      "\n",
      "========================================\n",
      "\n",
      "MultinomialNB Accuracy: 0.5167\n",
      "MultinomialNB Confusion Matrix:\n",
      "[[90, 55],\n",
      " [90, 65]]\n",
      "\n",
      "========================================\n",
      "\n"
     ]
    }
   ],
   "source": [
    "from sklearn.datasets import make_classification\n",
    "from sklearn.model_selection import train_test_split\n",
    "from sklearn.svm import SVC\n",
    "from sklearn.ensemble import RandomForestClassifier, GradientBoostingClassifier\n",
    "from sklearn.neighbors import KNeighborsClassifier\n",
    "from sklearn.naive_bayes import MultinomialNB\n",
    "from sklearn.metrics import accuracy_score, confusion_matrix\n",
    "import numpy as np\n",
    "\n",
    "# Generate a synthetic classification dataset\n",
    "X, y = make_classification(n_samples=1000, n_features=20, random_state=42)\n",
    "\n",
    "# Split the dataset into training and testing sets\n",
    "X_train, X_test, y_train, y_test = train_test_split(X, y, test_size=0.3, random_state=42)\n",
    "\n",
    "# Apply absolute transformation to remove negative values (if using MultinomialNB)\n",
    "X_train = np.abs(X_train)\n",
    "X_test = np.abs(X_test)\n",
    "\n",
    "# Create a dictionary to store models\n",
    "models = {\n",
    "    'SVC': SVC(kernel='linear'),\n",
    "    'RandomForest': RandomForestClassifier(n_estimators=100, random_state=42),\n",
    "    'GradientBoosting': GradientBoostingClassifier(n_estimators=100, random_state=42),\n",
    "    'KNeighbors': KNeighborsClassifier(n_neighbors=5),\n",
    "    'MultinomialNB': MultinomialNB()\n",
    "}\n",
    "\n",
    "# Loop through the models, train, test, and print results\n",
    "for model_name, model in models.items():\n",
    "    # Train the model\n",
    "    model.fit(X_train, y_train)\n",
    "\n",
    "    # Test the model\n",
    "    predictions = model.predict(X_test)\n",
    "\n",
    "    # Calculate accuracy\n",
    "    accuracy = accuracy_score(y_test, predictions)\n",
    "    print(f\"{model_name} Accuracy: {accuracy:.4f}\")\n",
    "\n",
    "    # Calculate confusion matrix\n",
    "    cm = confusion_matrix(y_test, predictions)\n",
    "    print(f\"{model_name} Confusion Matrix:\")\n",
    "    print(np.array2string(cm, separator=', '))\n",
    "\n",
    "    print(\"\\n\" + \"=\"*40 + \"\\n\")\n"
   ]
  },
  {
   "cell_type": "markdown",
   "id": "36cee3c8",
   "metadata": {},
   "source": [
    "# single prediction"
   ]
  },
  {
   "cell_type": "code",
   "execution_count": 9,
   "id": "a74ad639",
   "metadata": {},
   "outputs": [
    {
     "data": {
      "text/plain": [
       "0.5333333333333333"
      ]
     },
     "execution_count": 9,
     "metadata": {},
     "output_type": "execute_result"
    }
   ],
   "source": [
    "# selecting svc\n",
    "svc = SVC(kernel='linear')\n",
    "svc.fit(X_train,y_train)\n",
    "ypred = svc.predict(X_test)\n",
    "accuracy_score(y_test,ypred)"
   ]
  },
  {
   "cell_type": "code",
   "execution_count": 10,
   "id": "fdd98daa",
   "metadata": {},
   "outputs": [],
   "source": [
    "# save svc\n",
    "import pickle\n",
    "pickle.dump(svc,open('svc.pkl','wb'))"
   ]
  },
  {
   "cell_type": "code",
   "execution_count": 11,
   "id": "4dd13145",
   "metadata": {},
   "outputs": [],
   "source": [
    "# load model\n",
    "svc = pickle.load(open('svc.pkl','rb'))"
   ]
  },
  {
   "cell_type": "code",
   "execution_count": 12,
   "id": "8bf40f9d",
   "metadata": {},
   "outputs": [
    {
     "name": "stdout",
     "output_type": "stream",
     "text": [
      "Predicted Disease: [0]\n",
      "Actual Disease: 1\n"
     ]
    }
   ],
   "source": [
    "# Assuming X_test is a NumPy array (which is common after train_test_split)\n",
    "print(\"Predicted Disease:\", svc.predict(X_test[0].reshape(1, -1)))  # Reshape if it's a NumPy array\n",
    "print(\"Actual Disease:\", y_test[0])\n"
   ]
  },
  {
   "cell_type": "code",
   "execution_count": 13,
   "id": "786bfd1a",
   "metadata": {},
   "outputs": [
    {
     "name": "stdout",
     "output_type": "stream",
     "text": [
      "Predicted Disease: [0]\n",
      "Actual Disease: 1\n"
     ]
    }
   ],
   "source": [
    "print(\"Predicted Disease:\", svc.predict(X_test[100].reshape(1, -1)))  # Use array indexing, no .iloc\n",
    "print(\"Actual Disease:\", y_test[100])  # y_test is likely a NumPy array, so no .iloc needed\n"
   ]
  },
  {
   "cell_type": "code",
   "execution_count": 14,
   "id": "acb7b4e7",
   "metadata": {},
   "outputs": [
    {
     "name": "stdout",
     "output_type": "stream",
     "text": [
      "Predicted Disease: [0]\n",
      "Actual Disease: 1\n"
     ]
    }
   ],
   "source": [
    "print(\"Predicted Disease:\", svc.predict(X_test[100].reshape(1, -1)))  # Use array indexing, no .iloc\n",
    "print(\"Actual Disease:\", y_test[100])  # y_test is likely a NumPy array, so no .iloc needed\n"
   ]
  },
  {
   "cell_type": "markdown",
   "id": "9ce6884a",
   "metadata": {},
   "source": [
    "# Recommendation System and Prediction"
   ]
  },
  {
   "cell_type": "markdown",
   "id": "f53f59b8",
   "metadata": {},
   "source": [
    "# load database and use logic for recommendations"
   ]
  },
  {
   "cell_type": "code",
   "execution_count": 15,
   "id": "767ed813",
   "metadata": {},
   "outputs": [],
   "source": [
    "sym_des = pd.read_csv(\"/Users/bleonitshillova/Desktop/Medical-Diagnoses SHQIP/dataset/symtoms_df-sq.csv\", on_bad_lines='skip')\n",
    "precautions = pd.read_csv(\"/Users/bleonitshillova/Desktop/Medical-Diagnoses SHQIP/dataset/precautions_df-sq.csv\",on_bad_lines='skip')\n",
    "workout = pd.read_csv(\"/Users/bleonitshillova/Desktop/Medical-Diagnoses SHQIP/dataset/workout_df-sq.csv\",on_bad_lines='skip')\n",
    "description = pd.read_csv(\"/Users/bleonitshillova/Desktop/Medical-Diagnoses SHQIP/dataset/description-sq.csv\",on_bad_lines='skip')\n",
    "medications = pd.read_csv(\"/Users/bleonitshillova/Desktop/Medical-Diagnoses SHQIP/dataset/medications-sq.csv\",on_bad_lines='skip')\n",
    "diets = pd.read_csv(\"/Users/bleonitshillova/Desktop/Medical-Diagnoses SHQIP/dataset/diets-sq.csv\",on_bad_lines='skip')\n"
   ]
  },
  {
   "cell_type": "code",
   "execution_count": 16,
   "id": "6cb123a9",
   "metadata": {},
   "outputs": [],
   "source": [
    "def helper(dis):\n",
    "    # Fetch the description from the description DataFrame\n",
    "    desc = description[description['Sëmundje'] == dis]['përshkrimi']\n",
    "    desc = \" \".join([w for w in desc]) if not desc.empty else \"No description available\"\n",
    "\n",
    "    # Fetch precautions for the disease, if available\n",
    "    pre = precautions[precautions['Sëmundje'] == dis][['Masaparaprake_1', 'Masaparaprake_2', 'Masaparaprake_3', 'Masaparaprake_4']]\n",
    "    if pre.empty:\n",
    "        pre = [\"No precautions available\"]\n",
    "    else:\n",
    "        pre = pre.values[0]  # Take the first row of the precaution values\n",
    "\n",
    "    # Fetch medications for the disease, if available\n",
    "    med = medications[medications['Sëmundje'] == dis]['mjekim']\n",
    "    med = med.tolist() if not med.empty else [\"No medications available\"]\n",
    "\n",
    "    # Fetch diet recommendations for the disease, if available\n",
    "    die = diets[diets['Sëmundje'] == dis]['diet']\n",
    "    die = die.tolist() if not die.empty else [\"No diet recommendations available\"]\n",
    "\n",
    "    # Fetch workout suggestions for the disease, if available\n",
    "    wrkout = workout[workout['Sëmundje'] == dis]['stërvitje']\n",
    "    wrkout = wrkout.tolist() if not wrkout.empty else [\"No workout recommendations available\"]\n",
    "\n",
    "    return desc, pre, med, die, wrkout\n",
    "\n",
    "symptoms_dict = {\n",
    "    'kruarje': 0, 'Skuqja_e_lëkurës': 1, 'shpërthimet_e_lëkurës_nyjore': 2, \n",
    "    'teshtitje_e_vazhdueshme': 3, 'dridhje': 4, 'të_dridhura': 5, 'dhimbje_nyjesh': 6, \n",
    "    'dhimbje_barku': 7, 'aciditeti': 8, 'ulçera_në_gjuhë': 9, 'humbje_muskujsh': 10, \n",
    "    'të_vjella': 11, 'djegie_miktruimi': 12, 'njolla_urinimi': 13, 'lodhje': 14, \n",
    "    'shtim_peshe': 15, 'ankthi': 16, 'duart_dhe_këmbët_e_ftohta': 17, 'ndryshimet_e_humorit': 18, \n",
    "    'humbje_peshe': 19, 'shqetësim': 20, 'letargji': 21, 'arna_në_fyt': 22, \n",
    "    'Niveli_i_parregullt_i_sheqerit': 23, 'kollë': 24, 'temperaturë_e_lartë': 25, \n",
    "    'sytë_mbytur': 26, 'gulçim': 27, 'djersitje': 28, 'dehidratim': 29, \n",
    "    'dispepsi': 30, 'dhimbje_koke': 31, 'lëkura_e_kuqe': 32, 'urina_e_errët': 33, \n",
    "    'nauze': 34, 'humbja_e_oreksit': 35, 'dhimbje_pas_syve': 36, 'Dhimbja_e_shpinës': 37, \n",
    "    'kapsllëk': 38, 'diarre': 39, 'ethe_të_lehta': 40, 'urina_e_verdhë': 41, \n",
    "    'zverdhja_e_syve': 42, 'dështimi_akut_i_mëlçisë': 43, 'lëngu_mbingarkues': 44, \n",
    "    'ënjtja_e_stomakut': 45, 'nyjet_limfatikët_e_fryrë': 46, 'Sëmundje': 47, \n",
    "    'vizion_turbullt_dhe_i_shtrembëruar': 48, 'gëlbazë': 49, 'acarim_fyti': 50, \n",
    "    'skuqje_e_syve': 51, 'presioni_i_sinusit': 52, 'rrjedhje_e_hundës': 53, \n",
    "    'mbingarkesë': 54, 'dhimbje_gjoksi': 55, 'dobësi_në_gjymtyrë': 56, 'rrahje_të_shpejta_të_zemrës': 57, \n",
    "    'dhimbje_gjatë_lëvizjeve_të_zorrëve': 58, 'dhimbje_në_rajonin_anal': 59, 'jashtëqitje_e_përgjakshme': 60, \n",
    "    'acarim_në_anus': 61, 'Dhimbja_e_qafës': 62, 'marramendje': 63, 'ngërçe': 64, \n",
    "    'mavijosje': 65, 'obeziteti': 66, 'këmbë_të_fryra': 67, 'enë_të_fryra_të_gjakut': 68, \n",
    "    'Fytyra_dhe_sy_të_fryrë': 69, 'tiroidë_e_zmadhuar': 70, 'thonjtë_e_brishtë': 71, \n",
    "    'ekstremitetet_e_fryra': 72, 'urinë_e_tepruar': 73, 'kontakte_extra_martesore': 74, \n",
    "    'tharje_dhe_dridhje_buzesh': 75, 'të_folurit_të_paqartë': 76, 'dhimbje_gjuri': 77, \n",
    "    'Dhimbja_e_nyjeve_të_kofshës': 78, 'dobësi_muskulare': 79, 'qafa_e_ngurtë': 80, \n",
    "    'ënjtje_nyjesh': 81, 'Lëvizja_ngurtësi': 82, 'rrotullime_lëvizjesh': 83, 'humbja_e_ekuilibrit': 84, \n",
    "    'paqëndrueshmëri': 85, 'dobësi_e_një_anës_trupore': 86, 'humbja_e_eres': 87, \n",
    "    'shqetësimi_i_fshikëzës': 88, 'Furinë_me_erë_të_keqe': 89, 'Ndjenja_e_vazhdueshme_e_urinës': 90, \n",
    "    'kalimi_i_gazeve': 91, 'kruarje_e_brendshme': 92, 'look_toksik_(tifos)': 93, 'depresioni': 94, \n",
    "    'nervozizëm': 95, 'dhimbje_muskulore': 96, 'altered_sensorium': 97, 'njollat_e_kuqe_mbi_trup': 98, \n",
    "    'dhimbje_barku': 99, 'menstruacione_jo_normale': 100, 'arna_diskromatike': 101, \n",
    "    'lotim_nga_sytë': 102, 'oreksi_i_shtuar': 103, 'poliuria': 104, 'historia_familjare': 105, \n",
    "    'mukoide_sputum': 106, 'pështymë_e_ndryshkur': 107, 'mungesë_përqendrimi': 108, \n",
    "    'shqetësimet_vizuale': 109, 'marrja_e_transfuzionit_të_gjakut': 110, 'marrja_e_injeksioneve_josterile': 111, \n",
    "    'koma': 112, 'gjakderdhje_në_stomak': 113, 'zgjerimi_i_barkut': 114, 'historia_e_konsumimit_të_alkoolit': 115, \n",
    "    'lëngu_mbingarkues': 116, 'gjak_në_sputum': 117, 'venat_e_shqara_në_viç': 118, 'palpitacione': 119, \n",
    "    'ecje_dhe_dhimbje': 120, 'puçrrat_e_mbushura_me_qelb': 121, 'pika_te_zeza': 122, \n",
    "    'lëkundje': 123, 'lëkurë_lëkurë': 124, 'pluhuri_si_argjendi': 125, 'dhëmbëzat_e_vogla_në_thonj': 126, \n",
    "    'thonjtë_inflamator': 127, 'flluskë': 128, 'plagë_kuqe_rreth_hundës': 129, 'kore_e_verdhë': 130, \n",
    "    'prognoza': 131\n",
    "}\n",
    "diseases_list = {\n",
    "  15: \"Infeksion mykotik\",\n",
    "  4: \"Alergji\",\n",
    "  16: \"GERD\",\n",
    "  9: \"Kolestaza kronike\",\n",
    "  14: \"Reagimiidrogës\",\n",
    "  33: \"Sëmundja e ulçerës peptike\",\n",
    "  1: \"SIDA\",\n",
    "  12: \"Diabeti\",\n",
    "  17: \"Gastroenteriti\",\n",
    "  6: \"Astma bronkiale\",\n",
    "  23: \"Hipertensioni\",\n",
    "  30: \"Migrena\",\n",
    "  7: \"Spondiloza e qafës së mitrës\",\n",
    "  32: \"Paraliza (hemorragjia e trurit)\",\n",
    "  28: \"Verdhëza\",\n",
    "  29: \"Malaria\",\n",
    "  8: \"Lija e dhenve\",\n",
    "  11: \"Dengue\",\n",
    "  37: \"Tifoja\",\n",
    "  40: \"Hepatiti A\",\n",
    "  19: \"Hepatiti B\",\n",
    "  20: \"Hepatiti C\",\n",
    "  21: \"Hepatiti D\",\n",
    "  22: \"Hepatiti E\",\n",
    "  3: \"Hepatiti alkoolik\",\n",
    "  36: \"Tuberkulozi\",\n",
    "  10: \"Ftohja e zakonshme\",\n",
    "  34: \"Pneumonia\",\n",
    "  13: \"Hemorroidetdimorfike(grumbullat)\",\n",
    "  18: \"Sulmi në zemër\",\n",
    "  39: \"Venat me variçe\",\n",
    "  26: \"Hipotireoza\",\n",
    "  24: \"Hipertiroidizmi\",\n",
    "  25: \"Hipoglicemia\",\n",
    "  31: \"Osteoartrozë\",\n",
    "  5: \"Artriti\",\n",
    "  0: \"(vertigo) Vertigo Pozicionale Paroymsal\",\n",
    "  2: \"Aknet\",\n",
    "  38: \"Infeksioni i traktit urinar\",\n",
    "  35: \"Psoriasis\",\n",
    "  27: \"Impetigo\"\n",
    "}\n",
    "\n",
    "\n",
    "# Model Prediction function\n",
    "def get_predicted_value(patient_symptoms):\n",
    "    try:\n",
    "        input_vector = np.zeros(len(symptoms_dict))  # Initialize with the correct number of features (132)\n",
    "        \n",
    "        # Loop over each symptom provided by the user\n",
    "        for item in patient_symptoms:\n",
    "            # Check if the symptom exists in the symptoms dictionary\n",
    "            if item in symptoms_dict:\n",
    "                input_vector[symptoms_dict[item]] = 1\n",
    "            else:\n",
    "                print(f\"Warning: Symptom '{item}' not found in the symptoms dictionary.\")\n",
    "        \n",
    "        # Make the prediction using the model\n",
    "        predicted_disease = svc.predict([input_vector])[0]\n",
    "        return diseases_list.get(predicted_disease, \"Disease not found\")\n",
    "    except KeyError as e:\n",
    "        return f\"Error with symptoms: {e}\"\n",
    "    except Exception as e:\n",
    "        return f\"Prediction failed: {e}\"\n"
   ]
  },
  {
   "cell_type": "code",
   "execution_count": 21,
   "id": "a36b1e93",
   "metadata": {},
   "outputs": [
    {
     "ename": "TypeError",
     "evalue": "list indices must be integers or slices, not str",
     "output_type": "error",
     "traceback": [
      "\u001b[0;31m---------------------------------------------------------------------------\u001b[0m",
      "\u001b[0;31mTypeError\u001b[0m                                 Traceback (most recent call last)",
      "Cell \u001b[0;32mIn[21], line 11\u001b[0m\n\u001b[1;32m      8\u001b[0m predicted_disease \u001b[38;5;241m=\u001b[39m get_predicted_value(user_symptoms)\n\u001b[1;32m     10\u001b[0m \u001b[38;5;28;01mtry\u001b[39;00m:\n\u001b[0;32m---> 11\u001b[0m     dis_des, precautions, medications, rec_diet, workout \u001b[38;5;241m=\u001b[39m \u001b[43mhelper\u001b[49m\u001b[43m(\u001b[49m\u001b[43mpredicted_disease\u001b[49m\u001b[43m)\u001b[49m\n\u001b[1;32m     12\u001b[0m \u001b[38;5;28;01mexcept\u001b[39;00m \u001b[38;5;167;01mKeyError\u001b[39;00m \u001b[38;5;28;01mas\u001b[39;00m e:\n\u001b[1;32m     13\u001b[0m     \u001b[38;5;28mprint\u001b[39m(\u001b[38;5;124mf\u001b[39m\u001b[38;5;124m\"\u001b[39m\u001b[38;5;124mMissing key in the dataset: \u001b[39m\u001b[38;5;132;01m{\u001b[39;00me\u001b[38;5;132;01m}\u001b[39;00m\u001b[38;5;124m\"\u001b[39m)\n",
      "Cell \u001b[0;32mIn[16], line 7\u001b[0m, in \u001b[0;36mhelper\u001b[0;34m(dis)\u001b[0m\n\u001b[1;32m      4\u001b[0m desc \u001b[38;5;241m=\u001b[39m \u001b[38;5;124m\"\u001b[39m\u001b[38;5;124m \u001b[39m\u001b[38;5;124m\"\u001b[39m\u001b[38;5;241m.\u001b[39mjoin([w \u001b[38;5;28;01mfor\u001b[39;00m w \u001b[38;5;129;01min\u001b[39;00m desc]) \u001b[38;5;28;01mif\u001b[39;00m \u001b[38;5;129;01mnot\u001b[39;00m desc\u001b[38;5;241m.\u001b[39mempty \u001b[38;5;28;01melse\u001b[39;00m \u001b[38;5;124m\"\u001b[39m\u001b[38;5;124mNo description available\u001b[39m\u001b[38;5;124m\"\u001b[39m\n\u001b[1;32m      6\u001b[0m \u001b[38;5;66;03m# Fetch precautions for the disease, if available\u001b[39;00m\n\u001b[0;32m----> 7\u001b[0m pre \u001b[38;5;241m=\u001b[39m precautions[\u001b[43mprecautions\u001b[49m\u001b[43m[\u001b[49m\u001b[38;5;124;43m'\u001b[39;49m\u001b[38;5;124;43mSëmundje\u001b[39;49m\u001b[38;5;124;43m'\u001b[39;49m\u001b[43m]\u001b[49m \u001b[38;5;241m==\u001b[39m dis][[\u001b[38;5;124m'\u001b[39m\u001b[38;5;124mMasaparaprake_1\u001b[39m\u001b[38;5;124m'\u001b[39m, \u001b[38;5;124m'\u001b[39m\u001b[38;5;124mMasaparaprake_2\u001b[39m\u001b[38;5;124m'\u001b[39m, \u001b[38;5;124m'\u001b[39m\u001b[38;5;124mMasaparaprake_3\u001b[39m\u001b[38;5;124m'\u001b[39m, \u001b[38;5;124m'\u001b[39m\u001b[38;5;124mMasaparaprake_4\u001b[39m\u001b[38;5;124m'\u001b[39m]]\n\u001b[1;32m      8\u001b[0m \u001b[38;5;28;01mif\u001b[39;00m pre\u001b[38;5;241m.\u001b[39mempty:\n\u001b[1;32m      9\u001b[0m     pre \u001b[38;5;241m=\u001b[39m [\u001b[38;5;124m\"\u001b[39m\u001b[38;5;124mNo precautions available\u001b[39m\u001b[38;5;124m\"\u001b[39m]\n",
      "\u001b[0;31mTypeError\u001b[0m: list indices must be integers or slices, not str"
     ]
    }
   ],
   "source": [
    "# Test 1\n",
    "# Split the user's input into a list of symptoms (assuming they are comma-separated) # itching,skin_rash,nodal_skin_eruptions\n",
    "symptoms = input(\"Enter your symptoms: \")\n",
    "user_symptoms = [s.strip() for s in symptoms.split(',')]\n",
    "user_symptoms = [symptom.strip(\"[]' \") for symptom in user_symptoms]\n",
    "\n",
    "\n",
    "predicted_disease = get_predicted_value(user_symptoms)\n",
    "\n",
    "try:\n",
    "    dis_des, precautions, medications, rec_diet, workout = helper(predicted_disease)\n",
    "except KeyError as e:\n",
    "    print(f\"Missing key in the dataset: {e}\")\n",
    "    dis_des = \"Description not available\"\n",
    "    precautions = [[\"Precautions not available\"]]\n",
    "    medications = [\"Medications not available\"]\n",
    "    rec_diet = [\"Diet recommendations not available\"]\n",
    "    workout = [\"Workout recommendations not available\"]\n",
    "\n",
    "\n",
    "print(\"=================predicted disease============\")\n",
    "print(predicted_disease)\n",
    "print(\"=================description==================\")\n",
    "print(dis_des)\n",
    "print(\"=================precautions==================\")\n",
    "for i, p in enumerate(precautions[0], 1):\n",
    "    print(i, \": \", p)\n",
    "\n",
    "print(\"=================medications==================\")\n",
    "for i, m in enumerate(medications, 1):\n",
    "    print(i, \": \", m)\n",
    "\n",
    "print(\"=================workout==================\")\n",
    "for i, w in enumerate(workout, 1):\n",
    "    print(i, \": \", w)\n",
    "\n",
    "print(\"=================diets==================\")\n",
    "for i, Diet in enumerate(rec_diet, 1):\n",
    "    print(i, \": \", Diet)\n",
    "\n"
   ]
  },
  {
   "cell_type": "code",
   "execution_count": 20,
   "id": "2d7ee79b",
   "metadata": {},
   "outputs": [
    {
     "name": "stdout",
     "output_type": "stream",
     "text": [
      "Warning: Symptom 'skuqja_e_lëkures' not found in the symptoms dictionary.\n",
      "An error occurred: list indices must be integers or slices, not str\n",
      "=================predicted disease============\n",
      "\n",
      "Unknown\n",
      "\n",
      "=================description==================\n",
      "\n",
      "No description\n",
      "\n",
      "=================precautions==================\n",
      "\n",
      "1 :  No precautions\n",
      "\n",
      "=================medications==================\n",
      "\n",
      "1 :  No medications\n",
      "\n",
      "=================workout==================\n",
      "\n",
      "1 :  No workouts\n",
      "\n",
      "=================diets==================\n",
      "\n",
      "1 :  No diets\n"
     ]
    }
   ],
   "source": [
    "symptoms = input(\"Enter your symptoms (comma-separated): \")\n",
    "user_symptoms = [s.strip() for s in symptoms.split(',') if s.strip()]\n",
    "if not user_symptoms:\n",
    "    print(\"Please enter at least one symptom.\")\n",
    "    exit()\n",
    "\n",
    "try:\n",
    "    predicted_disease = get_predicted_value(user_symptoms)\n",
    "    desc, pre, med, die, wrkout = helper(predicted_disease)\n",
    "except Exception as e:\n",
    "    print(f\"An error occurred: {e}\")\n",
    "    predicted_disease = \"Unknown\"\n",
    "    desc, pre, med, die, wrkout = \"No description\", [[\"No precautions\"]], [\"No medications\"], [\"No diets\"], [\"No workouts\"]\n",
    "\n",
    "print(\"=================predicted disease============\\n\")\n",
    "print(predicted_disease)\n",
    "\n",
    "print(\"\\n=================description==================\\n\")\n",
    "print(desc)\n",
    "\n",
    "print(\"\\n=================precautions==================\\n\")\n",
    "if pre and isinstance(pre[0], list):\n",
    "    for i, p_i in enumerate(pre[0], 1):\n",
    "        print(i, \": \", p_i)\n",
    "else:\n",
    "    print(\"No precautions available\")\n",
    "\n",
    "print(\"\\n=================medications==================\\n\")\n",
    "for i, m_i in enumerate(med, 1):\n",
    "    print(i, \": \", m_i)\n",
    "\n",
    "print(\"\\n=================workout==================\\n\")\n",
    "for i, w_i in enumerate(wrkout, 1):\n",
    "    print(i, \": \", w_i)\n",
    "\n",
    "print(\"\\n=================diets==================\\n\")\n",
    "for i, d_i in enumerate(die, 1):\n",
    "    print(i, \": \", d_i)\n"
   ]
  },
  {
   "cell_type": "code",
   "execution_count": 19,
   "id": "a8d5df35",
   "metadata": {},
   "outputs": [
    {
     "name": "stdout",
     "output_type": "stream",
     "text": [
      "1.5.2\n"
     ]
    }
   ],
   "source": [
    "# let's use pycharm flask app\n",
    "# but install this version in pycharm\n",
    "import sklearn\n",
    "print(sklearn.__version__)"
   ]
  },
  {
   "cell_type": "code",
   "execution_count": null,
   "id": "97dfb973",
   "metadata": {},
   "outputs": [],
   "source": []
  }
 ],
 "metadata": {
  "kernelspec": {
   "display_name": "Python 3 (ipykernel)",
   "language": "python",
   "name": "python3"
  },
  "language_info": {
   "codemirror_mode": {
    "name": "ipython",
    "version": 3
   },
   "file_extension": ".py",
   "mimetype": "text/x-python",
   "name": "python",
   "nbconvert_exporter": "python",
   "pygments_lexer": "ipython3",
   "version": "3.13.0"
  }
 },
 "nbformat": 4,
 "nbformat_minor": 5
}
